{
  "nbformat": 4,
  "nbformat_minor": 0,
  "metadata": {
    "colab": {
      "provenance": [],
      "authorship_tag": "ABX9TyNeo7Wm7lYPvx+oNaVyXRv5",
      "include_colab_link": true
    },
    "kernelspec": {
      "name": "python3",
      "display_name": "Python 3"
    },
    "language_info": {
      "name": "python"
    }
  },
  "cells": [
    {
      "cell_type": "markdown",
      "metadata": {
        "id": "view-in-github",
        "colab_type": "text"
      },
      "source": [
        "<a href=\"https://colab.research.google.com/github/LEE-GYEONG-A/BP_05_Ch10/blob/main/BP_05_EX_Ch10.ipynb\" target=\"_parent\"><img src=\"https://colab.research.google.com/assets/colab-badge.svg\" alt=\"Open In Colab\"/></a>"
      ]
    },
    {
      "cell_type": "code",
      "source": [
        "from tkinter import *\n",
        "\n",
        "window = Tk()\n",
        "button = Button(window, text=\"클릭하세요!\")\n",
        "button.pack()\n",
        "\n",
        "window.mainloop()"
      ],
      "metadata": {
        "id": "nGpMCqpuECP9"
      },
      "execution_count": null,
      "outputs": []
    },
    {
      "cell_type": "code",
      "source": [
        "from tkinter import *\n",
        "\n",
        "def process():\n",
        "  print(\"안녕하세요?\")\n",
        "\n",
        "window = Tk()\n",
        "button = Button(window, text=\"클릭하세요!\", command=process)\n",
        "button.pack()\n",
        "\n",
        "window.mainloop()"
      ],
      "metadata": {
        "id": "ET1wzBEiG1wc"
      },
      "execution_count": null,
      "outputs": []
    },
    {
      "cell_type": "code",
      "source": [
        "#문제1\n",
        "from tkinter import Tk, Label, Button\n",
        "\n",
        "def greet():\n",
        "  print(\"파이썬에 오신 것을 환영합니다.\")\n",
        "\n",
        "window = Tk()\n",
        "label = Label(window, text=\"간단한 GUI 프로그램!\")\n",
        "label.pack()\n",
        "\n",
        "greet_button = Button(window, text=\"환영합니다.\", command=greet)\n",
        "greet_button.pack()\n",
        "\n",
        "close_button = Button(window, text=\"종료\", command=window.quit)\n",
        "close_button.pack()\n",
        "\n",
        "window.mainloop()"
      ],
      "metadata": {
        "id": "KWY1ZQprGxQd"
      },
      "execution_count": null,
      "outputs": []
    },
    {
      "cell_type": "code",
      "source": [
        "#문제3\n",
        "from tkinter import *\n",
        "\n",
        "window = Tk()\n",
        "label = Label(window, text=\"너무 높아요!!\")\n",
        "label.pack()\n",
        "\n",
        "e = Entry(window)\n",
        "e.pack()\n",
        "\n",
        "b1 = Button(window, text=\"숫자를 입력\")\n",
        "b2 = Button(window, text=\"게임을 다시 실행\")\n",
        "b1.grid(row=0, column=0)\n",
        "b2.grid(row=0, column=0)\n",
        "\n",
        "window.mainloop()"
      ],
      "metadata": {
        "id": "pV70wr33-USf"
      },
      "execution_count": null,
      "outputs": []
    },
    {
      "cell_type": "code",
      "source": [
        "#문제4\n",
        "from tkinter import *\n",
        "\n",
        "window = Tk()\n",
        "l1 = Label(window, text=\"인치를 센티미디로 변환하는 프로그램:\")\n",
        "l2 = Label(window, text=\"인치를 입력하시오:\") \n",
        "l1.pack()\n",
        "l2.grid(row=0, column=0)\n",
        "\n",
        "e = Entry(window,int)\n"
      ],
      "metadata": {
        "id": "aSTkHLfNFJ7G"
      },
      "execution_count": null,
      "outputs": []
    },
    {
      "cell_type": "code",
      "source": [
        "#문제5\n",
        "from tkinter import *\n",
        "\n",
        "window = Tk()\n",
        "l1 = Label(window, text=\"이름\")\n",
        "l2 = Label(window, text=\"직업\")\n",
        "l3 = Label(window, text=\"국적\")\n",
        "l1.grid(row=0, column=0)\n",
        "l2.grid(row=1, column=0)\n",
        "l3.grid(row=2, column=0)\n",
        "\n",
        "e1 = Entry(window)\n",
        "e2 = Entry(window)\n",
        "e3 = Entry(window)\n",
        "e1.grid(row=0, column=1)\n",
        "e2.grid(row=1, column=1)\n",
        "e3.grid(row=2, column=1)\n",
        "\n",
        "b1 = Button(window, text=\"Show\")\n",
        "b2 = Button(window, text=\"Quit\")\n",
        "b1.grid(row=3, column=0)\n",
        "b2.grid(row=3, column=1)\n",
        "\n",
        "window.mainloop()"
      ],
      "metadata": {
        "id": "3qc4-SrIqJUC"
      },
      "execution_count": null,
      "outputs": []
    }
  ]
}